{
 "cells": [
  {
   "cell_type": "code",
   "execution_count": 7,
   "metadata": {},
   "outputs": [
    {
     "name": "stdout",
     "output_type": "stream",
     "text": [
      "输入数据形状: (99, 3, 57)\n",
      "开始训练 TimeGANWithAttention 模型...\n"
     ]
    },
    {
     "name": "stderr",
     "output_type": "stream",
     "text": [
      "Emddeding network training:   0%|          | 0/4000 [00:00<?, ?it/s]"
     ]
    },
    {
     "name": "stdout",
     "output_type": "stream",
     "text": [
      "WARNING:tensorflow:Model was constructed with shape (128, 3, 57) for input KerasTensor(type_spec=TensorSpec(shape=(128, 3, 57), dtype=tf.float32, name='RealData'), name='RealData', description=\"created by layer 'RealData'\"), but it was called on an input with incompatible shape (99, 3, 57).\n",
      "WARNING:tensorflow:Model was constructed with shape (128, 3, 57) for input KerasTensor(type_spec=TensorSpec(shape=(128, 3, 57), dtype=tf.float32, name='RealData'), name='RealData', description=\"created by layer 'RealData'\"), but it was called on an input with incompatible shape (99, 3, 57).\n"
     ]
    },
    {
     "name": "stderr",
     "output_type": "stream",
     "text": [
      "Emddeding network training: 100%|██████████| 4000/4000 [00:36<00:00, 110.82it/s]\n",
      "Supervised network training: 100%|██████████| 4000/4000 [00:25<00:00, 156.31it/s]\n",
      "Joint networks training:   0%|          | 0/4000 [00:00<?, ?it/s]"
     ]
    },
    {
     "name": "stdout",
     "output_type": "stream",
     "text": [
      "WARNING:tensorflow:Model was constructed with shape (128, 3, 57) for input KerasTensor(type_spec=TensorSpec(shape=(128, 3, 57), dtype=tf.float32, name='RealData'), name='RealData', description=\"created by layer 'RealData'\"), but it was called on an input with incompatible shape (99, 3, 57).\n",
      "WARNING:tensorflow:Model was constructed with shape (128, 3, 57) for input KerasTensor(type_spec=TensorSpec(shape=(128, 3, 57), dtype=tf.float32, name='RealData'), name='RealData', description=\"created by layer 'RealData'\"), but it was called on an input with incompatible shape (99, 3, 57).\n",
      "WARNING:tensorflow:Model was constructed with shape (128, 3, 57) for input KerasTensor(type_spec=TensorSpec(shape=(128, 3, 57), dtype=tf.float32, name='RealData'), name='RealData', description=\"created by layer 'RealData'\"), but it was called on an input with incompatible shape (99, 3, 57).\n",
      "WARNING:tensorflow:Model was constructed with shape (128, 3, 57) for input KerasTensor(type_spec=TensorSpec(shape=(128, 3, 57), dtype=tf.float32, name='RealData'), name='RealData', description=\"created by layer 'RealData'\"), but it was called on an input with incompatible shape (99, 3, 57).\n"
     ]
    },
    {
     "name": "stderr",
     "output_type": "stream",
     "text": [
      "Joint networks training: 100%|██████████| 4000/4000 [15:03<00:00,  4.43it/s]\n"
     ]
    },
    {
     "name": "stdout",
     "output_type": "stream",
     "text": [
      "TimeGANWithAttention 模型训练完成！\n"
     ]
    },
    {
     "name": "stderr",
     "output_type": "stream",
     "text": [
      "Synthetic data generation: 100%|██████████| 2/2 [00:00<00:00, 14.70it/s]"
     ]
    },
    {
     "name": "stdout",
     "output_type": "stream",
     "text": [
      "合成数据形状: (99, 3, 57)\n",
      "数据与标签已保存。\n",
      "异常样本数: 25, 正常样本数: 74\n"
     ]
    },
    {
     "name": "stderr",
     "output_type": "stream",
     "text": [
      "\n"
     ]
    }
   ],
   "source": [
    "import pandas as pd\n",
    "import numpy as np\n",
    "from sklearn.preprocessing import StandardScaler\n",
    "from ydata_synthetic.synthesizers.timeseries import TimeGAN\n",
    "from ydata_synthetic.synthesizers import ModelParameters\n",
    "import tensorflow as tf\n",
    "from tensorflow.keras import layers\n",
    "\n",
    "#==========================\n",
    "# 1. 数据加载与预处理\n",
    "#==========================\n",
    "data_path = 'data_GAN_log_transformed.csv'\n",
    "data = pd.read_csv(data_path)\n",
    "\n",
    "# 排除非特征列\n",
    "exclude_cols = ['唯一编号', '日期', '住院日序号', '性别', '年龄']\n",
    "feature_cols = [c for c in data.columns if c not in exclude_cols]\n",
    "\n",
    "data[feature_cols] = data[feature_cols].apply(pd.to_numeric, errors='coerce').fillna(0)\n",
    "\n",
    "unique_ids = data['唯一编号'].unique()\n",
    "max_time_step = data['住院日序号'].max()\n",
    "num_samples = len(unique_ids)  # 原始数据集的患者数\n",
    "num_time_steps = max_time_step\n",
    "num_features = len(feature_cols)\n",
    "\n",
    "# 将数据转换为 (样本, 时间步, 特征)\n",
    "time_series_data = np.zeros((num_samples, num_time_steps, num_features))\n",
    "for i, uid in enumerate(unique_ids):\n",
    "    patient_data = data[data['唯一编号'] == uid].sort_values('住院日序号')\n",
    "    patient_series = patient_data[feature_cols].values\n",
    "    seq_len = patient_series.shape[0]\n",
    "    time_series_data[i, :seq_len, :] = patient_series\n",
    "\n",
    "print(\"输入数据形状:\", time_series_data.shape)\n",
    "\n",
    "# 标准化处理\n",
    "ts_reshaped = time_series_data.reshape(-1, num_features)\n",
    "scaler = StandardScaler()\n",
    "ts_scaled = scaler.fit_transform(ts_reshaped)\n",
    "time_series_data_scaled = ts_scaled.reshape(num_samples, num_time_steps, num_features)\n",
    "\n",
    "#==========================\n",
    "# 2. 定义含有注意力机制的TimeGAN模型\n",
    "#==========================\n",
    "class TimeGANWithAttention(TimeGAN):\n",
    "    def __init__(self, model_parameters, hidden_dim, seq_len, n_seq, gamma, attention_dim=64):\n",
    "        super().__init__(model_parameters, hidden_dim, seq_len, n_seq, gamma)\n",
    "        self.attention_dim = attention_dim\n",
    "\n",
    "    def build_generator(self):\n",
    "        with tf.variable_scope('generator'):\n",
    "            z = layers.Input(shape=(self.seq_len, self.noise_dim))\n",
    "            x = layers.LSTM(self.hidden_dim, return_sequences=True)(z)\n",
    "            x = layers.LayerNormalization()(x)\n",
    "            attention = layers.MultiHeadAttention(num_heads=4, key_dim=self.attention_dim)(x, x)\n",
    "            x = layers.Add()([x, attention])\n",
    "            x = layers.LSTM(self.hidden_dim, return_sequences=True)(x)\n",
    "            x = layers.LayerNormalization()(x)\n",
    "            output = layers.Dense(self.n_seq, activation='tanh')(x)\n",
    "            self.generator = tf.keras.models.Model(z, output)\n",
    "\n",
    "    def build_discriminator(self):\n",
    "        with tf.variable_scope('discriminator'):\n",
    "            x = layers.Input(shape=(self.seq_len, self.n_seq))\n",
    "            x_seq = layers.LSTM(self.hidden_dim, return_sequences=True)(x)\n",
    "            x_seq = layers.LayerNormalization()(x_seq)\n",
    "            attention = layers.MultiHeadAttention(num_heads=4, key_dim=self.attention_dim)(x_seq, x_seq)\n",
    "            x_seq = layers.Add()([x_seq, attention])\n",
    "            x_seq = layers.LSTM(self.hidden_dim)(x_seq)\n",
    "            x_seq = layers.LayerNormalization()(x_seq)\n",
    "            output = layers.Dense(1, activation='sigmoid')(x_seq)\n",
    "            self.discriminator = tf.keras.models.Model(x, output)\n",
    "\n",
    "#==========================\n",
    "# 3. 训练 TimeGAN\n",
    "#==========================\n",
    "seq_len = num_time_steps\n",
    "n_seq = num_features\n",
    "\n",
    "gan_args = ModelParameters(\n",
    "    batch_size=128,\n",
    "    lr=5e-4,\n",
    "    noise_dim=32,\n",
    "    layers_dim=128\n",
    ")\n",
    "\n",
    "timegan_attention = TimeGANWithAttention(\n",
    "    model_parameters=gan_args,\n",
    "    hidden_dim=24,\n",
    "    seq_len=seq_len,\n",
    "    n_seq=n_seq,\n",
    "    gamma=1,\n",
    "    attention_dim=64\n",
    ")\n",
    "\n",
    "print(\"开始训练 TimeGANWithAttention 模型...\")\n",
    "timegan_attention.train(time_series_data_scaled, train_steps=4000)\n",
    "print(\"TimeGANWithAttention 模型训练完成！\")\n",
    "\n",
    "#==========================\n",
    "# 4. 生成合成数据\n",
    "#    为了体现先生成多一些数据再裁剪，\n",
    "#    假设TIMEGAN可以批量生成更多数据，然后裁剪到99个。\n",
    "#    如果你的时间GAN只能一次性生成指定数量，可直接设为num_samples。\n",
    "#==========================\n",
    "generated_count = num_samples * 2  # 例如先生成2倍数量\n",
    "synthetic_data = timegan_attention.sample(generated_count)\n",
    "\n",
    "# 裁切到 num_samples (99个)\n",
    "synthetic_data = synthetic_data[:num_samples]\n",
    "\n",
    "print(\"合成数据形状:\", synthetic_data.shape)\n",
    "\n",
    "#==========================\n",
    "# 5. 在生成的数据中计算每个人的变化度\n",
    "#    这里使用与之前类似的策略：对三个时间点的数据计算特征标准差，再取平均\n",
    "#==========================\n",
    "variation_scores = []\n",
    "for i in range(num_samples):\n",
    "    patient_series = synthetic_data[i, :, :]  # 维度：(3天, 特征数)\n",
    "    # 计算每个特征在3个时间点上的标准差，然后对所有特征的std求平均\n",
    "    feature_std = np.std(patient_series, axis=0)  \n",
    "    variation_score = np.mean(feature_std)\n",
    "    variation_scores.append(variation_score)\n",
    "\n",
    "variation_scores = np.array(variation_scores)\n",
    "\n",
    "# 对variation_scores从大到小排序，取前25%为异常\n",
    "sorted_indices = np.argsort(variation_scores)[::-1]  # 大到小\n",
    "top_25_percent = int(np.ceil(num_samples * 0.25))\n",
    "anomaly_indices = sorted_indices[:top_25_percent]\n",
    "\n",
    "# 创建标签：异常为1，正常为0\n",
    "labels = np.zeros(num_samples, dtype=int)\n",
    "labels[anomaly_indices] = 1\n",
    "\n",
    "#==========================\n",
    "# 6. 对异常患者的数据做增幅处理\n",
    "#    对选中的异常患者，在随机一些时间步和一些随机特征上增幅\n",
    "#==========================\n",
    "np.random.seed(42)\n",
    "scaling_factor = 1.5\n",
    "for idx in anomaly_indices:\n",
    "    # 随机选一些时间步\n",
    "    num_anomaly_time_points = np.random.randint(1, 3)  # 1到2个时间步\n",
    "    anomaly_time_steps = np.random.choice(seq_len, num_anomaly_time_points, replace=False)\n",
    "    \n",
    "    # 对每个选中的时间步，再随机选一些特征\n",
    "    # 例如随机选 5% - 10%的特征进行增幅\n",
    "    num_anomaly_features = max(1, int(num_features * 0.1))\n",
    "    anomaly_features = np.random.choice(num_features, num_anomaly_features, replace=False)\n",
    "\n",
    "    # 增幅特定时间步和特定特征的值\n",
    "    synthetic_data[idx, anomaly_time_steps[:, None], anomaly_features] *= scaling_factor\n",
    "\n",
    "#==========================\n",
    "# 7. 保存结果\n",
    "#==========================\n",
    "np.save('synthetic_data.npy', synthetic_data)\n",
    "np.save('synthetic_labels.npy', labels)\n",
    "\n",
    "num_anomalies = np.sum(labels == 1)\n",
    "num_normals = np.sum(labels == 0)\n",
    "print(\"数据与标签已保存。\")\n",
    "print(f\"异常样本数: {num_anomalies}, 正常样本数: {num_normals}\")\n"
   ]
  }
 ],
 "metadata": {
  "kernelspec": {
   "display_name": "timegan_env",
   "language": "python",
   "name": "python3"
  },
  "language_info": {
   "codemirror_mode": {
    "name": "ipython",
    "version": 3
   },
   "file_extension": ".py",
   "mimetype": "text/x-python",
   "name": "python",
   "nbconvert_exporter": "python",
   "pygments_lexer": "ipython3",
   "version": "3.7.12"
  }
 },
 "nbformat": 4,
 "nbformat_minor": 2
}
